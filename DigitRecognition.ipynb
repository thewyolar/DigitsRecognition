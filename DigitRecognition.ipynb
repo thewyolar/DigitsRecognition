{
 "cells": [
  {
   "cell_type": "code",
   "execution_count": 1,
   "metadata": {
    "collapsed": true,
    "pycharm": {
     "name": "#%%\n"
    }
   },
   "outputs": [],
   "source": [
    "from keras.datasets import mnist\n",
    "from keras.models import Sequential\n",
    "from keras.layers import Dense, Dropout, Flatten\n",
    "from keras.layers import Conv2D, MaxPooling2D\n",
    "from keras.utils import np_utils"
   ]
  },
  {
   "cell_type": "code",
   "execution_count": 2,
   "outputs": [],
   "source": [
    "# Размер изображения\n",
    "img_rows, img_cols = 28, 28"
   ],
   "metadata": {
    "collapsed": false,
    "pycharm": {
     "name": "#%%\n"
    }
   }
  },
  {
   "cell_type": "code",
   "execution_count": 3,
   "outputs": [],
   "source": [
    "# Загружаем данные\n",
    "(X_train, y_train), (X_test, y_test) = mnist.load_data()"
   ],
   "metadata": {
    "collapsed": false,
    "pycharm": {
     "name": "#%%\n"
    }
   }
  },
  {
   "cell_type": "code",
   "execution_count": 4,
   "outputs": [],
   "source": [
    "# Преобразование размерности изображений\n",
    "X_train = X_train.reshape(X_train.shape[0], img_rows, img_cols, 1)\n",
    "X_test = X_test.reshape(X_test.shape[0], img_rows, img_cols, 1)\n",
    "input_shape = (img_rows, img_cols, 1)"
   ],
   "metadata": {
    "collapsed": false,
    "pycharm": {
     "name": "#%%\n"
    }
   }
  },
  {
   "cell_type": "code",
   "execution_count": 5,
   "outputs": [],
   "source": [
    "# Нормализация данных\n",
    "X_train = X_train.astype('float32')\n",
    "X_test = X_test.astype('float32')\n",
    "X_train /= 255\n",
    "X_test /= 255"
   ],
   "metadata": {
    "collapsed": false,
    "pycharm": {
     "name": "#%%\n"
    }
   }
  },
  {
   "cell_type": "code",
   "execution_count": 6,
   "outputs": [],
   "source": [
    "# Преобразуем метки в категории\n",
    "Y_train = np_utils.to_categorical(y_train, 10)\n",
    "Y_test = np_utils.to_categorical(y_test, 10)"
   ],
   "metadata": {
    "collapsed": false,
    "pycharm": {
     "name": "#%%\n"
    }
   }
  },
  {
   "cell_type": "code",
   "execution_count": 7,
   "outputs": [],
   "source": [
    "# Создаем последовательную модель\n",
    "model = Sequential()\n",
    "\n",
    "model.add(Conv2D(75, kernel_size=(5, 5), activation='relu', input_shape=input_shape))\n",
    "model.add(MaxPooling2D(pool_size=(2, 2)))\n",
    "model.add(Dropout(0.2))\n",
    "model.add(Conv2D(100, (5, 5), activation='relu'))\n",
    "model.add(MaxPooling2D(pool_size=(2, 2)))\n",
    "model.add(Dropout(0.2))\n",
    "model.add(Flatten())\n",
    "model.add(Dense(500, activation='relu'))\n",
    "model.add(Dropout(0.5))\n",
    "model.add(Dense(10, activation='softmax'))"
   ],
   "metadata": {
    "collapsed": false,
    "pycharm": {
     "name": "#%%\n"
    }
   }
  },
  {
   "cell_type": "code",
   "execution_count": null,
   "outputs": [],
   "source": [
    "# Компилируем модель\n",
    "model.compile(loss=\"categorical_crossentropy\", optimizer=\"adam\", metrics=[\"accuracy\"])\n",
    "print(model.summary())"
   ],
   "metadata": {
    "collapsed": false,
    "pycharm": {
     "name": "#%%\n",
     "is_executing": true
    }
   }
  },
  {
   "cell_type": "code",
   "execution_count": 9,
   "outputs": [
    {
     "name": "stdout",
     "output_type": "stream",
     "text": [
      "Epoch 1/10\n",
      "240/240 - 34s - loss: 0.2538 - accuracy: 0.9209 - val_loss: 0.0738 - val_accuracy: 0.9778 - 34s/epoch - 143ms/step\n",
      "Epoch 2/10\n",
      "240/240 - 34s - loss: 0.0675 - accuracy: 0.9791 - val_loss: 0.0399 - val_accuracy: 0.9873 - 34s/epoch - 142ms/step\n",
      "Epoch 3/10\n",
      "240/240 - 34s - loss: 0.0480 - accuracy: 0.9848 - val_loss: 0.0383 - val_accuracy: 0.9886 - 34s/epoch - 142ms/step\n",
      "Epoch 4/10\n",
      "240/240 - 34s - loss: 0.0384 - accuracy: 0.9875 - val_loss: 0.0327 - val_accuracy: 0.9905 - 34s/epoch - 141ms/step\n",
      "Epoch 5/10\n",
      "240/240 - 34s - loss: 0.0306 - accuracy: 0.9901 - val_loss: 0.0351 - val_accuracy: 0.9890 - 34s/epoch - 140ms/step\n",
      "Epoch 6/10\n",
      "240/240 - 33s - loss: 0.0251 - accuracy: 0.9922 - val_loss: 0.0271 - val_accuracy: 0.9932 - 33s/epoch - 139ms/step\n",
      "Epoch 7/10\n",
      "240/240 - 33s - loss: 0.0225 - accuracy: 0.9927 - val_loss: 0.0331 - val_accuracy: 0.9902 - 33s/epoch - 138ms/step\n",
      "Epoch 8/10\n",
      "240/240 - 33s - loss: 0.0197 - accuracy: 0.9935 - val_loss: 0.0328 - val_accuracy: 0.9916 - 33s/epoch - 139ms/step\n",
      "Epoch 9/10\n",
      "240/240 - 33s - loss: 0.0183 - accuracy: 0.9944 - val_loss: 0.0314 - val_accuracy: 0.9909 - 33s/epoch - 139ms/step\n",
      "Epoch 10/10\n",
      "240/240 - 33s - loss: 0.0168 - accuracy: 0.9941 - val_loss: 0.0307 - val_accuracy: 0.9917 - 33s/epoch - 138ms/step\n",
      "Модель успешно обучена\n"
     ]
    }
   ],
   "source": [
    "# Обучаем сеть\n",
    "model.fit(X_train, Y_train, batch_size=200, epochs=10, validation_split=0.2, verbose=2)\n",
    "print(\"Модель успешно обучена\")"
   ],
   "metadata": {
    "collapsed": false,
    "pycharm": {
     "name": "#%%\n"
    }
   }
  },
  {
   "cell_type": "code",
   "execution_count": 14,
   "outputs": [
    {
     "name": "stdout",
     "output_type": "stream",
     "text": [
      "Потери на тесте: 2.06%\n",
      "Точность на тесте: 99.36%\n"
     ]
    }
   ],
   "source": [
    "# Оцениваем качество обучения сети на тестовых данных\n",
    "score = model.evaluate(X_test, Y_test, verbose=0)\n",
    "print(\"Потери на тесте: %.2f%%\" % (score[0]*100))\n",
    "print(\"Точность на тесте: %.2f%%\" % (score[1]*100))"
   ],
   "metadata": {
    "collapsed": false,
    "pycharm": {
     "name": "#%%\n"
    }
   }
  },
  {
   "cell_type": "code",
   "execution_count": 11,
   "outputs": [
    {
     "name": "stderr",
     "output_type": "stream",
     "text": [
      "WARNING:absl:Found untraced functions such as _jit_compiled_convolution_op, _jit_compiled_convolution_op while saving (showing 2 of 2). These functions will not be directly callable after loading.\n"
     ]
    },
    {
     "name": "stdout",
     "output_type": "stream",
     "text": [
      "INFO:tensorflow:Assets written to: mnist\\assets\n"
     ]
    },
    {
     "name": "stderr",
     "output_type": "stream",
     "text": [
      "INFO:tensorflow:Assets written to: mnist\\assets\n"
     ]
    },
    {
     "name": "stdout",
     "output_type": "stream",
     "text": [
      "Модель сохранена как mnist\n"
     ]
    }
   ],
   "source": [
    "model.save('mnist')\n",
    "print(\"Модель сохранена как mnist\")"
   ],
   "metadata": {
    "collapsed": false,
    "pycharm": {
     "name": "#%%\n"
    }
   }
  },
  {
   "cell_type": "code",
   "execution_count": null,
   "outputs": [],
   "source": [],
   "metadata": {
    "collapsed": false,
    "pycharm": {
     "name": "#%%\n"
    }
   }
  }
 ],
 "metadata": {
  "kernelspec": {
   "display_name": "Python 3",
   "language": "python",
   "name": "python3"
  },
  "language_info": {
   "codemirror_mode": {
    "name": "ipython",
    "version": 2
   },
   "file_extension": ".py",
   "mimetype": "text/x-python",
   "name": "python",
   "nbconvert_exporter": "python",
   "pygments_lexer": "ipython2",
   "version": "2.7.6"
  }
 },
 "nbformat": 4,
 "nbformat_minor": 0
}